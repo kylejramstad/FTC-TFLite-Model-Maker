{
  "nbformat": 4,
  "nbformat_minor": 0,
  "metadata": {
    "colab": {
      "provenance": [],
      "private_outputs": true,
      "collapsed_sections": [
        "vVVmCsLA1u79"
      ],
      "gpuType": "T4"
    },
    "kernelspec": {
      "display_name": "Python 3",
      "name": "python3"
    },
    "accelerator": "GPU"
  },
  "cells": [
    {
      "cell_type": "code",
      "metadata": {
        "cellView": "form",
        "id": "TUfAcER1oUS6"
      },
      "source": [
        "#@title Licensed under the Apache License, Version 2.0 (the \"License\");\n",
        "# you may not use this file except in compliance with the License.\n",
        "# You may obtain a copy of the License at\n",
        "#\n",
        "# https://www.apache.org/licenses/LICENSE-2.0\n",
        "#\n",
        "# Unless required by applicable law or agreed to in writing, software\n",
        "# distributed under the License is distributed on an \"AS IS\" BASIS,\n",
        "# WITHOUT WARRANTIES OR CONDITIONS OF ANY KIND, either express or implied.\n",
        "# See the License for the specific language governing permissions and\n",
        "# limitations under the License."
      ],
      "execution_count": null,
      "outputs": []
    },
    {
      "cell_type": "markdown",
      "source": [
        "#Tutorial Video\n",
        "It is recommended that you watch this YouTube video along with this document.\n",
        "\n",
        "[Making a TensorFlow Lite Model 2024]() - YouTube\n"
      ],
      "metadata": {
        "id": "0c2jPKYlU9kS"
      }
    },
    {
      "cell_type": "markdown",
      "source": [
        "#Software Updates\n",
        "This Notebook will be updated regularly when bugs are found or software dependancies update."
      ],
      "metadata": {
        "id": "vVVmCsLA1u79"
      }
    },
    {
      "cell_type": "markdown",
      "source": [
        "* version 2.0 - Dec. 16, 2023\n",
        "  - Update for CENTERSTAGE\n",
        "    - Major Update: Google Colab upgraded to Python 3.10 and has made previous software incompatibilities. We now create a virtual environment for Python 3.9 to run the old software until it is allowed to run on 3.10\n",
        "    - New tutorial video posted on Youtube and link is updated\n",
        "* version 1.1.2 - Feb. 6, 2023\n",
        "  - added note that you need to click \"Save\" in CVAT before exporting\n",
        "* version 1.1.1 - Jan. 19, 2023\n",
        "  - added notes about how to update the Robot Controller App yourself if your team is using Android Studio to program\n",
        "* version 1.1 - Jan. 6, 2023\n",
        "  - added photo capture to notebook for testing your model\n",
        "  - made changes to allow testing the model after a disconnection from the notebook\n",
        "* version 1.0 - Jan. 5, 2023\n",
        "  - made publicly available"
      ],
      "metadata": {
        "id": "sk40D4xY1xn7"
      }
    },
    {
      "cell_type": "markdown",
      "source": [
        "#FIRST Tech Cahllenge"
      ],
      "metadata": {
        "id": "b4sAN7H-yFLW"
      }
    },
    {
      "cell_type": "markdown",
      "source": [
        "The FIRST Tech Challenge game contains elements that can only be completed if your robot can visually detect specific objects in the field.\n",
        "\n",
        "For the 2023-2024 season, teams can earn points for identifying the Randomization Object on the randomly selected Spike Mark. Earn points by:\n",
        "\n",
        "  * Placing a purple Pixel On the randomly selected Spike Mark.\n",
        "\n",
        "  * Placing a yellow Pixel On their Alliance Backdrop in the location corresponding to the randomly\n",
        "selected Spike Mark.\n",
        "\n",
        "Additional points are earned for these tasks when a Team uses their Team Prop in place of the\n",
        "tournament provided white Pixel.\n",
        "\n",
        "Learn more in the [Game Manual part 2](https://firstinspiresst01.blob.core.windows.net/first-in-show-ftc/game-manual-part-2-traditional.pdf)."
      ],
      "metadata": {
        "id": "iK4yT4091NOP"
      }
    },
    {
      "cell_type": "markdown",
      "source": [
        "##What is Tensor Flow?"
      ],
      "metadata": {
        "id": "ueSFawZI-QzX"
      }
    },
    {
      "cell_type": "markdown",
      "source": [
        "TensorFlow is a free and open-source software library for machine learning and artificial intelligence. It can be used across a range of tasks but has a particular focus on training and inference of deep neural networks.\n",
        "\n",
        "\n",
        "> [Wikipedia](https://en.wikipedia.org/wiki/TensorFlow)\n",
        "\n"
      ],
      "metadata": {
        "id": "ehkTvztK-Tgk"
      }
    },
    {
      "cell_type": "markdown",
      "source": [
        "##What is Google Colab?"
      ],
      "metadata": {
        "id": "-yPcOgIfkbi5"
      }
    },
    {
      "cell_type": "markdown",
      "source": [
        "Colab, or \"Colaboratory\", allows you to write and execute Python in your browser, with\n",
        "- Zero configuration required\n",
        "- Access to GPUs free of charge\n",
        "- Easy sharing\n",
        "\n",
        "Whether you're a **student**, a **data scientist** or an **AI researcher**, Colab can make your work easier. Watch [Introduction to Colab](https://www.youtube.com/watch?v=inN8seMm7UI) to learn more, or just get started below!\n",
        "> \\-Google"
      ],
      "metadata": {
        "id": "V8jnYXSFlBng"
      }
    },
    {
      "cell_type": "markdown",
      "metadata": {
        "id": "Gb7qyhNL1yWt"
      },
      "source": [
        "#TensorFlow Lite Model Maker\n",
        "The TensorFlow Lite Model Maker library simplifies the process of training a TensorFlow Lite model using custom dataset. It uses transfer learning to reduce the amount of training data required and shorten the training time."
      ]
    },
    {
      "cell_type": "markdown",
      "metadata": {
        "id": "sr3q-gvm3cI8"
      },
      "source": [
        "This Google Colab Notebook was created using information from many different sources. Please see the [acknowledgements below](#scrollTo=Y0EoYQJ10kxj).\n",
        "\n",
        "---\n",
        "\n",
        "For all tasks in this notebook, you should read about what the code does and follow any instructions given above a block of code. You can run the code just by clicking the play button in the top left of a code section. Please ensure that you go through this notebook in order.\n",
        "\n",
        "---\n",
        "\n",
        "**If you disconnect from this notebook while completing any one step, you may need to completely restart because Colab does not save all the results of running code between sessions.**"
      ]
    },
    {
      "cell_type": "markdown",
      "metadata": {
        "id": "bcLF2PKkSbV3"
      },
      "source": [
        "## Prerequisites\n"
      ]
    },
    {
      "cell_type": "markdown",
      "source": [
        "###Record a Video"
      ],
      "metadata": {
        "id": "pB4fTeH-SCeF"
      }
    },
    {
      "cell_type": "markdown",
      "source": [
        "It may be helpful to read about TensorFlow on the [FTCDocs website](https://ftc-docs.firstinspires.org/en/latest/programming_resources/vision/tensorflow_cs_2023/tensorflow-cs-2023.html)\n",
        "<br><br>\n",
        "You **need to read** the FTCDocs about [selecting your team prop](https://ftc-docs.firstinspires.org/en/latest/programming_resources/vision/tensorflow_cs_2023/tensorflow-cs-2023.html#selecting-objects-for-the-team-prop).\n",
        "<br><br>\n",
        "**Make sure you record your team prop at different angles and with objects of the same color that are not your team prop**\n",
        "<br><br>\n",
        "Depending on your framerate, a 40 second video at 24fps makes around 1000 photos. This should be enough to train your model.\n",
        "\n",
        "**Video needs to be in one of the following formats: mp4, mkv, 3gp, avi, m4v, mov, webm**"
      ],
      "metadata": {
        "id": "yJ8ymZUjSFRn"
      }
    },
    {
      "cell_type": "markdown",
      "source": [
        "### Annotation Setup"
      ],
      "metadata": {
        "id": "HVMd2EKZwAFE"
      }
    },
    {
      "cell_type": "markdown",
      "source": [
        "In order to train, a human needs to analize each frame of the video and label it with the object(s) we would like the computer to learn how to detect. This process is called annotation and is the majority of the work for the human. Most of the rest of this process will be done by the computer. This is the real teaching in this process."
      ],
      "metadata": {
        "id": "tJRfnIV0adl2"
      }
    },
    {
      "cell_type": "markdown",
      "source": [
        "1. Go to [Kili-Technology](https://www.kili-technology.com) and create a free account.\n",
        "  * *This free account has a limit of 5000 annotations. You shouldn't need more than that for this project.*\n",
        "1. Create a project\n",
        "  * Give your project a name\n",
        "  * Select \"Video\" as your \"Asset type\"\n",
        "  * Click the \"Continue\" button in the top right of the webpage\n",
        "1. Upload files\n",
        "  * Drag & Drop or click to upload your training video\n",
        "  * Keep the native frame rate\n",
        "  * Annotate as a video\n",
        "  * Click the \"Continue\" button in the top right of the webpage\n",
        "1. Edit Interface\n",
        "  * This is where you will add the labels you will be drawing on each frame of your video\n",
        "  * Click \"+ New Labeling Job\"\n",
        "  * Select \"Object Detection - Bounding Box\"\n",
        "  * You can skip the \"Write labeling instructions\"\n",
        "  * Type out the categories you will use to label the objects you want to detect.\n",
        "    * Example: White Pixel\n",
        "    * Example: Team Prop\n",
        "1. Add Members\n",
        "  * There is no need to change anything for this step. Your single account on this site is good enough to finish this task.\n",
        "  * Click \"Finish\" button in the top right of the webpage"
      ],
      "metadata": {
        "id": "TiK0RpmRoe0F"
      }
    },
    {
      "cell_type": "markdown",
      "source": [
        "### Make annotations"
      ],
      "metadata": {
        "id": "-EmaPtXdoZ_v"
      }
    },
    {
      "cell_type": "markdown",
      "source": [
        "Now, open your project. It is time to begin annotating your video!\n",
        "\n",
        "1. Open project\n",
        "1. Select the \"Bounding Box\" tool\n",
        "\n",
        "![image](data:image/png;base64,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)\n",
        "\n",
        "1. Draw a box around the object you want to label\n",
        "1. Select the label you created earlier\n",
        "1. Continue labeling your object(s) in all frames of the video.\n",
        "  * You can use the arrow keys on your keyboard to advance and rewind frames of the video.\n",
        "  * **You don't need to label every single frame.** You should use the propgation tool or drag to extend the labels use in the timeline at the bottom of the screen.\n",
        "    * This will interpolate between all the frames that you do move/adjust the bounding box. You can get away with moving the bounding box every 10 frames or so. It depends on how much the object in the video is moving.\n",
        "    \n",
        "  ![resize.png](data:image/png;base64,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)\n",
        "  \n",
        "1. Click the \"submit\" button in the top right of the screen when you are done."
      ],
      "metadata": {
        "id": "Fh3V3E9Qeyzq"
      }
    },
    {
      "cell_type": "markdown",
      "source": [
        "### Export Annotations"
      ],
      "metadata": {
        "id": "VHsKM-a7xmPf"
      }
    },
    {
      "cell_type": "markdown",
      "source": [
        "1. Open the \"...\" menu near the top right of the screen and select \"Export all labels\"\n",
        "\n",
        "  ![export.png](data:image/png;base64,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)\n",
        "2. Select **Pascal VOC** for the label format and you can leave all the other options alone.\n",
        "  * This is the only format available that is compatible with TensorFlow Model Maker. The other formats will not work in the rest of this notebook.\n",
        "3. Click \"Export\".\n",
        "  * This can take a minute or two because it is exporting the labels and turning the video into still images for you.\n",
        "4. Click the notification bell in the top right corner of the screen.\n",
        "5. Click the download button to download your annotations and images."
      ],
      "metadata": {
        "id": "xcr4BjWjxrZP"
      }
    },
    {
      "cell_type": "markdown",
      "source": [
        "###Mount your Google Drive for storage and make a directory for this project"
      ],
      "metadata": {
        "id": "LLSpXrbnQxa0"
      }
    },
    {
      "cell_type": "code",
      "source": [
        "#@markdown You will be asked to authorize the connection to your Google Drive. This Colab Notebook will only create files and will not delete them.\n",
        "#@markdown <br><br>Please make sure you have at least 1 GB of storage as images created during this process can take up a lot of space.\n",
        "#@markdown <br><br>**Please name your project folder below**\n",
        "from google.colab import drive\n",
        "drive.mount('/content/drive', force_remount=True)\n",
        "\n",
        "PROJECT_FOLDER = \"TensorFlow2024\" #@param {type:\"string\"}\n",
        "%cd /content/drive/MyDrive/\n",
        "%mkdir -p $PROJECT_FOLDER\n",
        "\n",
        "PATH = \"/content/drive/MyDrive/\"+PROJECT_FOLDER\n"
      ],
      "metadata": {
        "id": "YM39twAaoC2y",
        "cellView": "form"
      },
      "execution_count": null,
      "outputs": []
    },
    {
      "cell_type": "markdown",
      "source": [
        "####Upload Annotations and Images To Google Drive"
      ],
      "metadata": {
        "id": "NtLb5MpDjTUu"
      }
    },
    {
      "cell_type": "markdown",
      "source": [
        "* Unzip the file you downloaded from Kili\n",
        "* Upload all the files and folders to your project folder *(TensorFlow2024 by default)* in your Google Drive\n",
        "\n",
        "You should have a similar folder structure in Google Drive\n",
        "* MyDrive\n",
        "  * TensorFlow2024 (Project Name)\n",
        "    * README.kili.txt\n",
        "    * video_meta.json\n",
        "    * images (folder)\n",
        "    * labels (folder)"
      ],
      "metadata": {
        "id": "SOTBMJWBpXZs"
      }
    },
    {
      "cell_type": "markdown",
      "source": [
        "##Setup Virtual Python 3.9 Environment"
      ],
      "metadata": {
        "id": "dhyvf3a0-QZW"
      }
    },
    {
      "cell_type": "markdown",
      "source": [
        "Due to Google Colab's Python environment being updated to Python 3.10, the TensorFlow Model Maker no longer works. They are actively working on fixing the issue. Until then, we have to make a virtual environment of Python 3.9 in order to train our object detection model."
      ],
      "metadata": {
        "id": "eJmQL-1fZfvJ"
      }
    },
    {
      "cell_type": "code",
      "source": [
        "%env PYTHONPATH = # /env/python"
      ],
      "metadata": {
        "id": "h74slAYkZhEO"
      },
      "execution_count": null,
      "outputs": []
    },
    {
      "cell_type": "markdown",
      "source": [
        "While installing this software, **you will need to type y** and then click enter into the output box below to agree to the software installation."
      ],
      "metadata": {
        "id": "VDAStFZy-aEV"
      }
    },
    {
      "cell_type": "code",
      "source": [
        "# Download and install and update miniconda\n",
        "!wget https://repo.anaconda.com/miniconda/Miniconda3-py39_23.3.1-0-Linux-x86_64.sh\n",
        "!chmod +x Miniconda3-py39_23.3.1-0-Linux-x86_64.sh\n",
        "!./Miniconda3-py39_23.3.1-0-Linux-x86_64.sh -b -f -p /usr/local\n",
        "!conda update -q conda"
      ],
      "metadata": {
        "id": "iss2WMhJZjoV"
      },
      "execution_count": null,
      "outputs": []
    },
    {
      "cell_type": "markdown",
      "source": [
        "Add Python 3.9 to the environment."
      ],
      "metadata": {
        "id": "6emOPJJS-n2K"
      }
    },
    {
      "cell_type": "code",
      "source": [
        "import sys\n",
        "sys.path.append('/usr/local/lib/python3.9/site-packages')"
      ],
      "metadata": {
        "id": "wfMPvhK3Zlgr"
      },
      "execution_count": null,
      "outputs": []
    },
    {
      "cell_type": "markdown",
      "source": [
        "While starting the virtual environment, **you will need to type y** and click enter into the output box to agree to the software installation."
      ],
      "metadata": {
        "id": "yiAl0O2C-7Xy"
      }
    },
    {
      "cell_type": "code",
      "source": [
        "# create conda environment\n",
        "!conda create -n myenv python=3.9"
      ],
      "metadata": {
        "id": "h4P7lQrkZnKz"
      },
      "execution_count": null,
      "outputs": []
    },
    {
      "cell_type": "markdown",
      "source": [
        "Add the script that will train our object detection model. This will be what is run in virtual environment. Feel free to view this script on [Github](https://github.com/kylejramstad/TFLiteModelMakerColab/blob/main/train.py)."
      ],
      "metadata": {
        "id": "NHp8K0AA_Jxj"
      }
    },
    {
      "cell_type": "code",
      "source": [
        "!wget -O /content/train.py https://raw.githubusercontent.com/kylejramstad/TFLiteModelMakerColab/main/train.py"
      ],
      "metadata": {
        "id": "haPcQU9CZp9I"
      },
      "execution_count": null,
      "outputs": []
    },
    {
      "cell_type": "markdown",
      "source": [
        "Now we will install all the software needed for creating our object detection model in our new Python 3.9 environment.\n",
        "\n",
        "**You will need to type y** and click enter into the output box to agree to the software installation."
      ],
      "metadata": {
        "id": "Vh84tSl3_lVR"
      }
    },
    {
      "cell_type": "code",
      "source": [
        "%%shell\n",
        "eval \"$(conda shell.bash hook)\"\n",
        "conda activate myenv\n",
        "pip install -q tflite-model-maker\n",
        "pip install -q tflite-support-nightly\n",
        "pip3 install -q pycocotools\n",
        "pip install -q ipykernel\n",
        "pip install -q numpy==1.23.4\n",
        "pip install -q ipykernel\n",
        "conda install ipykernel\n",
        "python -m ipykernel install --user"
      ],
      "metadata": {
        "id": "7Nnq-F3bVTHB"
      },
      "execution_count": null,
      "outputs": []
    },
    {
      "cell_type": "markdown",
      "source": [
        "This will create all the folders we need during the training process. This will remove any old folders that should not be in your data."
      ],
      "metadata": {
        "id": "fJXqKq7S_vIX"
      }
    },
    {
      "cell_type": "code",
      "source": [
        "%rm -r $PATH/training\n",
        "%rm -r $PATH/validation\n",
        "%rm -r $PATH/testing\n",
        "\n",
        "%mkdir -p $PATH/training\n",
        "%mkdir -p $PATH/training/images\n",
        "%mkdir -p $PATH/training/Annotations\n",
        "%mkdir -p $PATH/validation/images\n",
        "%mkdir -p $PATH/validation/Annotations\n",
        "%mkdir -p $PATH/testing/images\n",
        "%mkdir -p $PATH/testing/Annotations"
      ],
      "metadata": {
        "id": "HVwkGSPrfiCZ"
      },
      "execution_count": null,
      "outputs": []
    },
    {
      "cell_type": "markdown",
      "source": [
        "##Train Object Detection Model\n",
        "Now we can start training our object detection model.\n",
        "\n",
        "But first we have some options to select below."
      ],
      "metadata": {
        "id": "b53Ns5VpAJ1z"
      }
    },
    {
      "cell_type": "markdown",
      "source": [
        "###Image Downsize"
      ],
      "metadata": {
        "id": "CYlclZ8CFAxB"
      }
    },
    {
      "cell_type": "markdown",
      "source": [
        "During the training process, your image and label data will be resized to reduce the time it takes to train the model."
      ],
      "metadata": {
        "id": "7BM9SPheJ2rm"
      }
    },
    {
      "cell_type": "code",
      "source": [
        "#@markdown *Don't forget to run this code to set these sizes*\n",
        "newX = 240 #@param {type:\"number\"}\n",
        "newY = 240 #@param {type:\"number\"}"
      ],
      "metadata": {
        "id": "FFcrk-66B-0Y",
        "cellView": "form"
      },
      "execution_count": null,
      "outputs": []
    },
    {
      "cell_type": "markdown",
      "source": [
        "###Model Architecture"
      ],
      "metadata": {
        "id": "BbmPH31HFDWv"
      }
    },
    {
      "cell_type": "markdown",
      "source": [
        "EfficientDet-Lite[0-4] are a family of mobile/IoT-friendly object detection models derived from the [EfficientDet](https://arxiv.org/abs/1911.09070) architecture.\n",
        "\n",
        "Creating a machine learning model from scratch is a very long process that can be very difficult to do. The TFLite Model Maker software allows you to build on top of a previously made model to reduce the time it takes to make a new one.\n",
        "\n",
        "Here is the performance of each EfficientDet-Lite models compared to each other. The default is EfficientDet-Lite0 as it is the fastest when it runs on your robot controller. If it is not accurate enough, you should try and move down the list.\n",
        "\n",
        "| Model architecture | Size(MB)* | Latency(ms)** | Average Precision*** |\n",
        "|--------------------|-----------|---------------|----------------------|\n",
        "| EfficientDet-Lite0 | 4.4       | 37            | 25.69%               |\n",
        "| EfficientDet-Lite1 | 5.8       | 49            | 30.55%               |\n",
        "| EfficientDet-Lite2 | 7.2       | 69            | 33.97%               |\n",
        "| EfficientDet-Lite3 | 11.4      | 116           | 37.70%               |\n",
        "| EfficientDet-Lite4 | 19.9      | 260           | 41.96%               |\n",
        "\n",
        "<i> * Size of the integer quantized models. <br/>\n",
        "** Latency measured on the Pixel 4 Phone using 4 threads on CPU. <br/>\n",
        "*** Average Precision is the mAP (mean Average Precision) on the COCO 2017 validation dataset.\n",
        "</i>\n"
      ],
      "metadata": {
        "id": "nGGvYZblE5gj"
      }
    },
    {
      "cell_type": "code",
      "source": [
        "#@markdown Select your object detection model archiecture from the dropdown menu. <br><br> Run this code block to set the modelType.\n",
        "modelType = \"efficientdet-lite0\" #@param [\"efficientdet-lite0\",\"efficientdet-lite1\",\"efficientdet-lite2\",\"efficientdet-lite3\",\"efficientdet-lite4\"]"
      ],
      "metadata": {
        "id": "6CNx_MlFDXPc",
        "cellView": "form"
      },
      "execution_count": null,
      "outputs": []
    },
    {
      "cell_type": "markdown",
      "source": [
        "###Train the Model"
      ],
      "metadata": {
        "id": "UozerVJUFQVZ"
      }
    },
    {
      "cell_type": "markdown",
      "source": [
        "**This step may take some time**\n",
        "\n",
        "Here are some notes about what will happen:\n",
        "* Your dataset of images and labels will be split into 3 different groups:\n",
        "\n",
        "  * Training (80%): These images are used to train the object detection model to recognize your cone sleeve images.\n",
        "\n",
        "  * Validation (10%): These are images that the model didn't see during the training process but will use them to decide when you should stop the training, to avoid [overfitting](https://en.wikipedia.org/wiki/Overfitting).\n",
        "  \n",
        "  * Test (10%): These images are used to evaluate the final model performance.\n",
        "\n",
        "* TensorFlow Model Maker will train your object detection model.\n",
        "  * While the model is training you will see the word \"Epoch\". Your training will go through 50 epochs. In otherwords, it will go through the training dataset 50 times.\n",
        "  * You may see \"batch_size\". This is the number of images that will be trained with at a time. Your training will use a batch_size of 8.\n",
        "\n",
        "* After training, it will evaluate your model on the test dataset described above. It will print out the results of the evealuation.\n",
        "  * Read about the [model metrics](https://ftc-docs.firstinspires.org/ftc_ml/managing_tool/model_metrics/model-metrics.html) from FTC Docs.\n",
        "\n",
        "* We will then export your object detection model to your project folder and evaluate the model one more time. The evaluation results after exporting can be slightly different due to the exporting process.\n"
      ],
      "metadata": {
        "id": "S6Sy573oFPAa"
      }
    },
    {
      "cell_type": "markdown",
      "source": [
        "This prepares the settings you already picked for the project folder, image resize dimensions, and model architecture type."
      ],
      "metadata": {
        "id": "ttJGdjfjrjQm"
      }
    },
    {
      "cell_type": "code",
      "source": [
        "%env PROJECT_FOLDER = $PROJECT_FOLDER\n",
        "%env newX = $newX\n",
        "%env newY = $newY\n",
        "%env modelType = $modelType"
      ],
      "metadata": {
        "id": "stsC_XbKTvnQ"
      },
      "execution_count": null,
      "outputs": []
    },
    {
      "cell_type": "markdown",
      "source": [
        "This code will now create your object detection model by running the training script. If you want to read through the script to see how it works, open the [file on Github](https://github.com/kylejramstad/TFLiteModelMakerColab/blob/main/train.py)."
      ],
      "metadata": {
        "id": "wsR3e8Nzr3gz"
      }
    },
    {
      "cell_type": "code",
      "source": [
        "%%shell\n",
        "eval \"$(conda shell.bash hook)\"\n",
        "conda activate myenv\n",
        "python /content/train.py /content/drive/MyDrive/$PROJECT_FOLDER $newX $newY $modelType"
      ],
      "metadata": {
        "id": "lNHf4SuPa5Lr"
      },
      "execution_count": null,
      "outputs": []
    },
    {
      "cell_type": "markdown",
      "source": [
        "#Testing Your Model\n",
        "This section will allow you to test TFLite object detection models only. You do not need to have created the model with the steps above and it will still test it."
      ],
      "metadata": {
        "id": "n-FvpZ-wmb3c"
      }
    },
    {
      "cell_type": "markdown",
      "source": [
        "##Upload your model\n",
        "* Upload the model you would like to test. It should be a .tflite file.\n",
        "* Upload the labels file that matches the model. It should be called labels.txt and was saved to the same folder as you model when it was created."
      ],
      "metadata": {
        "id": "pDSVD2Axm0u5"
      }
    },
    {
      "cell_type": "code",
      "source": [
        "from google.colab import files\n",
        "uploaded = files.upload()"
      ],
      "metadata": {
        "id": "lCoanBe0nKIr"
      },
      "execution_count": null,
      "outputs": []
    },
    {
      "cell_type": "markdown",
      "source": [
        "## Load TFLite Model Evaluation Functions"
      ],
      "metadata": {
        "id": "mtlzj_E3nnAg"
      }
    },
    {
      "cell_type": "code",
      "source": [
        "#@markdown Run this code to load your TFLite model and all the functions needed to detect your objects.\n",
        "import cv2\n",
        "from google.colab.patches import cv2_imshow\n",
        "from PIL import Image\n",
        "import numpy as np\n",
        "import tensorflow as tf\n",
        "assert tf.__version__.startswith('2')\n",
        "\n",
        "model_path = '/content/model.tflite'\n",
        "labels_path = '/content/labels.txt'\n",
        "\n",
        "# Load the labels into a list\n",
        "file = open(labels_path, \"r\")\n",
        "file_data = file.read()\n",
        "classes = file_data.split(\"\\n\")\n",
        "file.close()\n",
        "\n",
        "# Define a list of colors for visualization\n",
        "COLORS = np.random.randint(0, 255, size=(len(classes)+1, 3), dtype=np.uint8)\n",
        "\n",
        "def preprocess_image(image_path, input_size):\n",
        "  \"\"\"Preprocess the input image to feed to the TFLite model\"\"\"\n",
        "  img = tf.io.read_file(image_path)\n",
        "  img = tf.io.decode_image(img, channels=3)\n",
        "  img = tf.image.convert_image_dtype(img, tf.uint8)\n",
        "  original_image = img\n",
        "  resized_img = tf.image.resize(img, input_size)\n",
        "  resized_img = resized_img[tf.newaxis, :]\n",
        "  resized_img = tf.cast(resized_img, dtype=tf.uint8)\n",
        "  return resized_img, original_image\n",
        "\n",
        "\n",
        "def detect_objects(interpreter, image, threshold):\n",
        "  \"\"\"Returns a list of detection results, each a dictionary of object info.\"\"\"\n",
        "\n",
        "  signature_fn = interpreter.get_signature_runner()\n",
        "\n",
        "  # Feed the input image to the model\n",
        "  output = signature_fn(images=image)\n",
        "\n",
        "  # Get all outputs from the model\n",
        "  count = int(np.squeeze(output['output_0']))\n",
        "  scores = np.squeeze(output['output_1'])\n",
        "  classes = np.squeeze(output['output_2'])\n",
        "  boxes = np.squeeze(output['output_3'])\n",
        "\n",
        "  results = []\n",
        "  for i in range(count):\n",
        "    if scores[i] >= threshold:\n",
        "      result = {\n",
        "        'bounding_box': boxes[i],\n",
        "        'class_id': classes[i],\n",
        "        'score': scores[i]\n",
        "      }\n",
        "      results.append(result)\n",
        "  return results\n",
        "\n",
        "\n",
        "def run_odt_and_draw_results(image_path, interpreter, threshold=0.5):\n",
        "  \"\"\"Run object detection on the input image and draw the detection results\"\"\"\n",
        "  # Load the input shape required by the model\n",
        "  _, input_height, input_width, _ = interpreter.get_input_details()[0]['shape']\n",
        "\n",
        "  # Load the input image and preprocess it\n",
        "  preprocessed_image, original_image = preprocess_image(\n",
        "      image_path,\n",
        "      (input_height, input_width)\n",
        "    )\n",
        "\n",
        "  # Run object detection on the input image\n",
        "  results = detect_objects(interpreter, preprocessed_image, threshold=threshold)\n",
        "\n",
        "  # Plot the detection results on the input image\n",
        "  original_image_np = original_image.numpy().astype(np.uint8)\n",
        "  for obj in results:\n",
        "    # Convert the object bounding box from relative coordinates to absolute\n",
        "    # coordinates based on the original image resolution\n",
        "    ymin, xmin, ymax, xmax = obj['bounding_box']\n",
        "    xmin = int(xmin * original_image_np.shape[1])\n",
        "    xmax = int(xmax * original_image_np.shape[1])\n",
        "    ymin = int(ymin * original_image_np.shape[0])\n",
        "    ymax = int(ymax * original_image_np.shape[0])\n",
        "\n",
        "    # Find the class index of the current object\n",
        "    class_id = int(obj['class_id'])\n",
        "\n",
        "    # Draw the bounding box and label on the image\n",
        "    color = [int(c) for c in COLORS[class_id]]\n",
        "    cv2.rectangle(original_image_np, (xmin, ymin), (xmax, ymax), color, 2)\n",
        "    # Make adjustments to make the label visible for all objects\n",
        "    y = ymin - 15 if ymin - 15 > 15 else ymin + 15\n",
        "    label = \"{}: {:.0f}%\".format(classes[class_id], obj['score'] * 100)\n",
        "    cv2.putText(original_image_np, label, (xmin, y),\n",
        "        cv2.FONT_HERSHEY_SIMPLEX, 0.5, color, 2)\n",
        "\n",
        "  # Return the final image\n",
        "  original_uint8 = original_image_np.astype(np.uint8)\n",
        "  return original_uint8"
      ],
      "metadata": {
        "id": "xVe5cZiFqJoE",
        "cellView": "form"
      },
      "execution_count": null,
      "outputs": []
    },
    {
      "cell_type": "markdown",
      "source": [
        "##Take a test picture"
      ],
      "metadata": {
        "id": "eae82ECitS7L"
      }
    },
    {
      "cell_type": "code",
      "source": [
        "#@markdown Run this code to take a picture\n",
        "#@markdown <br>*It is a good idea to take this ppicture in a smilar setting as your robot would see it during a match*\n",
        "\n",
        "from IPython.display import display, Javascript\n",
        "from google.colab.output import eval_js\n",
        "from base64 import b64decode\n",
        "\n",
        "def take_photo(filename='/tmp/image.png', quality=0.8):\n",
        "  js = Javascript('''\n",
        "    async function takePhoto(quality) {\n",
        "      const div = document.createElement('div');\n",
        "      const capture = document.createElement('button');\n",
        "      capture.textContent = 'Capture';\n",
        "      div.appendChild(capture);\n",
        "\n",
        "      const video = document.createElement('video');\n",
        "      video.style.display = 'block';\n",
        "      const stream = await navigator.mediaDevices.getUserMedia({audio: false,video: { width: 320, height: 180 }});\n",
        "\n",
        "      document.body.appendChild(div);\n",
        "      div.appendChild(video);\n",
        "      video.srcObject = stream;\n",
        "      await video.play();\n",
        "\n",
        "      // Resize the output to fit the video element.\n",
        "      google.colab.output.setIframeHeight(document.documentElement.scrollHeight, true);\n",
        "\n",
        "      // Wait for Capture to be clicked.\n",
        "      await new Promise((resolve) => capture.onclick = resolve);\n",
        "\n",
        "      const canvas = document.createElement('canvas');\n",
        "      canvas.width = video.videoWidth;\n",
        "      canvas.height = video.videoHeight;\n",
        "      canvas.getContext('2d').drawImage(video, 0, 0);\n",
        "      stream.getVideoTracks()[0].stop();\n",
        "      div.remove();\n",
        "      return canvas.toDataURL('image/png', quality);\n",
        "    }\n",
        "    ''')\n",
        "  display(js)\n",
        "  data = eval_js('takePhoto({})'.format(quality))\n",
        "  binary = b64decode(data.split(',')[1])\n",
        "  with open(filename, 'wb') as f:\n",
        "    f.write(binary)\n",
        "  return filename\n",
        "\n",
        "from IPython.display import Image\n",
        "try:\n",
        "  filename = take_photo()\n",
        "  print('Saved to {}'.format(filename))\n",
        "\n",
        "  # Show the image which was just taken.\n",
        "  display(Image(filename))\n",
        "except Exception as err:\n",
        "  # Errors will be thrown if the user does not have a webcam or if they do not\n",
        "  # grant the page permission to access it.\n",
        "  print(str(err))"
      ],
      "metadata": {
        "cellView": "form",
        "id": "bw7z4lU1tyZn"
      },
      "execution_count": null,
      "outputs": []
    },
    {
      "cell_type": "markdown",
      "source": [
        "##Test the picture"
      ],
      "metadata": {
        "id": "W7vY34tZtvDH"
      }
    },
    {
      "cell_type": "code",
      "source": [
        "#@markdown Select your detection threshold and then run the code to test your model on the picture to took.\n",
        "from PIL import Image\n",
        "\n",
        "DETECTION_THRESHOLD = 0.10 #@param {type:\"number\"}\n",
        "\n",
        "TEMP_FILE = '/tmp/image.png'\n",
        "\n",
        "im = Image.open(TEMP_FILE)\n",
        "im.thumbnail((512, 512), Image.ANTIALIAS)\n",
        "im.save(TEMP_FILE, 'PNG')\n",
        "\n",
        "# Load the TFLite model\n",
        "interpreter = tf.lite.Interpreter(model_path=model_path)\n",
        "interpreter.allocate_tensors()\n",
        "\n",
        "# Run inference and draw detection result on the local copy of the original file\n",
        "detection_result_image = run_odt_and_draw_results(\n",
        "    TEMP_FILE,\n",
        "    interpreter,\n",
        "    threshold=DETECTION_THRESHOLD\n",
        ")\n",
        "\n",
        "# Show the detection result\n",
        "Image.fromarray(detection_result_image)"
      ],
      "metadata": {
        "cellView": "form",
        "id": "DEGzN23LtGZd"
      },
      "execution_count": null,
      "outputs": []
    },
    {
      "cell_type": "markdown",
      "source": [
        "## Testing outside of Google Colab"
      ],
      "metadata": {
        "id": "HTWD1H7oehI_"
      }
    },
    {
      "cell_type": "markdown",
      "source": [
        "If you want to test your model faster, you will need to be able to run python code on your computer. This will vary between different operating systems. Please follow this guide to help you install python on your computer.\n",
        "\n",
        "https://realpython.com/installing-python/\n",
        "\n",
        "Once you have python installed on your computer, you can use the Model Tester program here on Github.\n",
        "\n",
        "https://github.com/kylejramstad/FTC-TFLite-Model-Maker/tree/main\n",
        "\n",
        "This testing program will allow you to run your object detection model in real time without using your robot controller and without having to write any code for your robot.\n",
        "\n",
        "Please make sure you follow the instruction on the Github page."
      ],
      "metadata": {
        "id": "oDg14nzXe7hK"
      }
    },
    {
      "cell_type": "markdown",
      "source": [
        "#Using your TensorFlow Lite Model\n"
      ],
      "metadata": {
        "id": "TEBCDrG53ciT"
      }
    },
    {
      "cell_type": "markdown",
      "source": [
        "##Robot Controller App"
      ],
      "metadata": {
        "id": "o6xIq7IUsDP5"
      }
    },
    {
      "cell_type": "markdown",
      "source": [
        "Because the TensorFlow Lite Model Maker is a newer technology, the Robot Controller App that runs on your Rev Control Hub will not properly load your new tflite model unless it is up to date.\n",
        "\n",
        "**If you are coding using Android Studio, you need to ensure your Android Studio project was started with the current version of the app from [Github](https://github.com/FIRST-Tech-Challenge/FtcRobotController)**.\n",
        "\n",
        "Otherwise, follow the download and update instructions below."
      ],
      "metadata": {
        "id": "sS85apHUsGCW"
      }
    },
    {
      "cell_type": "markdown",
      "source": [
        "###Download and Update APK"
      ],
      "metadata": {
        "id": "v7bWCKlgsZUU"
      }
    },
    {
      "cell_type": "markdown",
      "source": [
        "Download the updated Robot Controller App here:\n",
        "* https://github.com/FIRST-Tech-Challenge/FtcRobotController/releases/download/v9.0.1/FtcRobotController-release.apk\n",
        "\n",
        "Update your Rev Control Hub's Robot Controller App:\n",
        "* Connect to your Rev Control Hub's Wifi\n",
        "* Click on the Manage Button\n",
        "  * ![update1.png](data:image/png;base64,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)\n",
        "* Scroll down to 'Update Robot Controller App' and select the APK file you downloaded.\n",
        "* Continue through all warnings and dialoges to install the new Robot Controller App.\n",
        "\n",
        "* **Note: you need to latest version of the FTC Driver Station App on your Rev Driver Hub as well.**\n",
        "  * This can be updated on the Rev Driver Hub itself by connecting to Wifi and running the Software Manager App to update it."
      ],
      "metadata": {
        "id": "srwX_wnoscW6"
      }
    },
    {
      "cell_type": "markdown",
      "source": [
        "##Download Model\n"
      ],
      "metadata": {
        "id": "h9t7OH3VrwNL"
      }
    },
    {
      "cell_type": "markdown",
      "source": [
        "You can download the TensorFlow Lite model file from your [Google Drive](https://dirve.google.com). It is in your project folder."
      ],
      "metadata": {
        "id": "j8QIfa63Lstd"
      }
    },
    {
      "cell_type": "markdown",
      "source": [
        "##Load onto Rev Control Hub\n"
      ],
      "metadata": {
        "id": "rK-4CV4qrmlG"
      }
    },
    {
      "cell_type": "markdown",
      "source": [
        "\n",
        "* Connect to your Rev Control Hub's Wifi\n",
        "* Click on the Manage Button\n",
        "* Scroll down to 'Manage TensorFlow Lite Models' and click the link\n",
        "* Click upload models and select your **model.tflite** file that you downloaded\n",
        "  * ![model.png](data:image/png;base64,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)"
      ],
      "metadata": {
        "id": "xztHWjP4yXrS"
      }
    },
    {
      "cell_type": "markdown",
      "source": [
        "##Coding with your tflite model"
      ],
      "metadata": {
        "id": "G9UynShky2Wy"
      }
    },
    {
      "cell_type": "markdown",
      "source": [
        "FTC Docs has great explanations on how to use and program with your tflite model now that it is loaded onto your Rev Control Hub.\n",
        "###OnBot Java & Blocks Programming\n",
        "* [Android Studio / OnBot Java](https://ftc-docs.firstinspires.org/en/latest/programming_resources/vision/java_tfod_opmode_custom/java-tfod-opmode-custom.html)\n",
        "* [Blocks](https://ftc-docs.firstinspires.org/en/latest/programming_resources/vision/blocks_tfod_opmode_custom/blocks-tfod-opmode-custom.html)"
      ],
      "metadata": {
        "id": "1p0qIEg1zJaZ"
      }
    },
    {
      "cell_type": "markdown",
      "source": [
        "# Acknowledgements and Sources"
      ],
      "metadata": {
        "id": "Y0EoYQJ10kxj"
      }
    },
    {
      "cell_type": "markdown",
      "source": [
        "* Colab Notebook for the [TensorFlow Lite Model Maker Object Detection](https://www.tensorflow.org/lite/models/modify/model_maker/object_detection) library.\n",
        "* [Danny Diaz](https://www.linkedin.com/in/dannydiaz1) from FIRST for sending me in the right direction\n",
        "* [George MacKerron](https://github.com/jawj) for finding why newer TensorFlow models don't work with older detectors ([see issue on github](https://github.com/tensorflow/tensorflow/issues/51591#issuecomment-923051299))\n",
        "* [Tarkket](https://github.com/Tarkkett) for finding the fix for the Robot Controller App ([see issue on Github](https://github.com/FIRST-Tech-Challenge/FtcRobotController/issues/505#issuecomment-1345664948))\n",
        "* [FTC-Docs](https://ftc-docs.firstinspires.org/programming_resources/vision/tensorflow_pp_2022/tensorflow_pp_2022.html)\n",
        "* [TensorFlow Metadata Writer of Object Detection](https://www.tensorflow.org/lite/models/convert/metadata_writer_tutorial#object_detectors)\n",
        "* [The original tutorial for TensorFlow Lite Model Maker for Object Detection](https://www.tensorflow.org/lite/models/modify/model_maker/object_detection)\n",
        "* dusskapark on [Disscuss TensorFlow](https://discuss.tensorflow.org/t/tflite-model-maker-training-error-custom-object-detection/6696/8) and Wayne Cheng on this [Linked-In Blog Post](https://www.linkedin.com/pulse/solving-out-memory-oom-errors-keras-tensorflow-running-wayne-cheng) for helping me fix Out-Of-Memory errors\n",
        "* wwfisher on the [Tensorflow Discussion Boards](https://discuss.tensorflow.org/t/running-tflite-model-maker-in-google-colab-june-july-2023/18049) for assisting in how to run last year's code in a virtual environment."
      ],
      "metadata": {
        "id": "QdsEwRmr3PxJ"
      }
    }
  ]
}